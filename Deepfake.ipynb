{
  "nbformat": 4,
  "nbformat_minor": 0,
  "metadata": {
    "colab": {
      "name": "Untitled0.ipynb",
      "provenance": [],
      "authorship_tag": "ABX9TyPgxoF1PNtGNVbAeZtl4crv",
      "include_colab_link": true
    },
    "kernelspec": {
      "name": "python3",
      "display_name": "Python 3"
    },
    "accelerator": "GPU"
  },
  "cells": [
    {
      "cell_type": "markdown",
      "metadata": {
        "id": "view-in-github",
        "colab_type": "text"
      },
      "source": [
        "<a href=\"https://colab.research.google.com/github/fmacias64/140kit/blob/master/Deepfake.ipynb\" target=\"_parent\"><img src=\"https://colab.research.google.com/assets/colab-badge.svg\" alt=\"Open In Colab\"/></a>"
      ]
    },
    {
      "cell_type": "code",
      "metadata": {
        "colab": {
          "base_uri": "https://localhost:8080/"
        },
        "id": "zW3oo85hLefW",
        "outputId": "31d029b6-bb93-49c2-fe0a-0329f52cbff2"
      },
      "source": [
        "!git clone https://github.com/Chando0185/first-order-model"
      ],
      "execution_count": 1,
      "outputs": [
        {
          "output_type": "stream",
          "text": [
            "Cloning into 'first-order-model'...\n",
            "remote: Enumerating objects: 54, done.\u001b[K\n",
            "remote: Counting objects: 100% (54/54), done.\u001b[K\n",
            "remote: Compressing objects: 100% (52/52), done.\u001b[K\n",
            "remote: Total 54 (delta 7), reused 5 (delta 0), pack-reused 0\u001b[K\n",
            "Unpacking objects: 100% (54/54), done.\n"
          ],
          "name": "stdout"
        }
      ]
    },
    {
      "cell_type": "code",
      "metadata": {
        "colab": {
          "base_uri": "https://localhost:8080/"
        },
        "id": "0y0o2TYRLr4s",
        "outputId": "784e2656-af59-42bc-b75d-9379df2fcca7"
      },
      "source": [
        "!pip install PyYAML==5.3.1"
      ],
      "execution_count": 2,
      "outputs": [
        {
          "output_type": "stream",
          "text": [
            "Collecting PyYAML==5.3.1\n",
            "\u001b[?25l  Downloading https://files.pythonhosted.org/packages/64/c2/b80047c7ac2478f9501676c988a5411ed5572f35d1beff9cae07d321512c/PyYAML-5.3.1.tar.gz (269kB)\n",
            "\r\u001b[K     |█▏                              | 10kB 12.8MB/s eta 0:00:01\r\u001b[K     |██▍                             | 20kB 14.9MB/s eta 0:00:01\r\u001b[K     |███▋                            | 30kB 10.2MB/s eta 0:00:01\r\u001b[K     |████▉                           | 40kB 8.8MB/s eta 0:00:01\r\u001b[K     |██████                          | 51kB 5.6MB/s eta 0:00:01\r\u001b[K     |███████▎                        | 61kB 5.7MB/s eta 0:00:01\r\u001b[K     |████████▌                       | 71kB 6.2MB/s eta 0:00:01\r\u001b[K     |█████████▊                      | 81kB 6.4MB/s eta 0:00:01\r\u001b[K     |███████████                     | 92kB 6.6MB/s eta 0:00:01\r\u001b[K     |████████████▏                   | 102kB 7.0MB/s eta 0:00:01\r\u001b[K     |█████████████▍                  | 112kB 7.0MB/s eta 0:00:01\r\u001b[K     |██████████████▋                 | 122kB 7.0MB/s eta 0:00:01\r\u001b[K     |███████████████▉                | 133kB 7.0MB/s eta 0:00:01\r\u001b[K     |█████████████████               | 143kB 7.0MB/s eta 0:00:01\r\u001b[K     |██████████████████▎             | 153kB 7.0MB/s eta 0:00:01\r\u001b[K     |███████████████████▌            | 163kB 7.0MB/s eta 0:00:01\r\u001b[K     |████████████████████▊           | 174kB 7.0MB/s eta 0:00:01\r\u001b[K     |██████████████████████          | 184kB 7.0MB/s eta 0:00:01\r\u001b[K     |███████████████████████▏        | 194kB 7.0MB/s eta 0:00:01\r\u001b[K     |████████████████████████▎       | 204kB 7.0MB/s eta 0:00:01\r\u001b[K     |█████████████████████████▌      | 215kB 7.0MB/s eta 0:00:01\r\u001b[K     |██████████████████████████▊     | 225kB 7.0MB/s eta 0:00:01\r\u001b[K     |████████████████████████████    | 235kB 7.0MB/s eta 0:00:01\r\u001b[K     |█████████████████████████████▏  | 245kB 7.0MB/s eta 0:00:01\r\u001b[K     |██████████████████████████████▍ | 256kB 7.0MB/s eta 0:00:01\r\u001b[K     |███████████████████████████████▋| 266kB 7.0MB/s eta 0:00:01\r\u001b[K     |████████████████████████████████| 276kB 7.0MB/s \n",
            "\u001b[?25hBuilding wheels for collected packages: PyYAML\n",
            "  Building wheel for PyYAML (setup.py) ... \u001b[?25l\u001b[?25hdone\n",
            "  Created wheel for PyYAML: filename=PyYAML-5.3.1-cp37-cp37m-linux_x86_64.whl size=44620 sha256=4967354524ca87be12cea670c02bdc6801041876c9b025cdbc1acfeb72c07aa9\n",
            "  Stored in directory: /root/.cache/pip/wheels/a7/c1/ea/cf5bd31012e735dc1dfea3131a2d5eae7978b251083d6247bd\n",
            "Successfully built PyYAML\n",
            "Installing collected packages: PyYAML\n",
            "  Found existing installation: PyYAML 3.13\n",
            "    Uninstalling PyYAML-3.13:\n",
            "      Successfully uninstalled PyYAML-3.13\n",
            "Successfully installed PyYAML-5.3.1\n"
          ],
          "name": "stdout"
        }
      ]
    },
    {
      "cell_type": "code",
      "metadata": {
        "colab": {
          "base_uri": "https://localhost:8080/"
        },
        "id": "pe1UXgUeL3Zl",
        "outputId": "af384404-7ba8-475c-ad6f-e19790d7729f"
      },
      "source": [
        "cd first-order-model"
      ],
      "execution_count": 3,
      "outputs": [
        {
          "output_type": "stream",
          "text": [
            "/content/first-order-model\n"
          ],
          "name": "stdout"
        }
      ]
    },
    {
      "cell_type": "code",
      "metadata": {
        "colab": {
          "base_uri": "https://localhost:8080/"
        },
        "id": "BjBnxciRMgov",
        "outputId": "73639147-b296-47b7-f4c3-7bf8d486bc4d"
      },
      "source": [
        "# se pone en runtime, change runtime type y escojer GPU\n",
        "from google.colab import drive\n",
        "drive.mount('/content/gdrive')"
      ],
      "execution_count": 1,
      "outputs": [
        {
          "output_type": "stream",
          "text": [
            "Mounted at /content/gdrive\n"
          ],
          "name": "stdout"
        }
      ]
    },
    {
      "cell_type": "code",
      "metadata": {
        "id": "6hP6m6azM-bC"
      },
      "source": [
        "import imageio\n",
        "import numpy as np\n",
        "import matplotlib.pyplot as plt\n",
        "import matplotlib.animation as animation\n",
        "from skimage.transform import resize\n",
        "from IPython.display import HTML\n",
        "import warnings\n",
        "warnings.filterwarnings(\"ignore\")\n",
        "\n",
        "source_image = imageio.imread('/content/gdrive/My Drive/first-order-motion-model/02.png')\n",
        "driving_video = imageio.mimread('/content/gdrive/My Drive/first-order-motion-model/04.mp4')\n",
        "\n",
        "\n",
        "#Resize image and video to 256x256\n",
        "\n",
        "source_image = resize(source_image, (256, 256))[..., :3]\n",
        "driving_video = [resize(frame, (256, 256))[..., :3] for frame in driving_video]\n",
        "\n",
        "def display(source, driving, generated=None):\n",
        "    fig = plt.figure(figsize=(8 + 4 * (generated is not None), 6))\n",
        "\n",
        "    ims = []\n",
        "    for i in range(len(driving)):\n",
        "        cols = [source]\n",
        "        cols.append(driving[i])\n",
        "        if generated is not None:\n",
        "            cols.append(generated[i])\n",
        "        im = plt.imshow(np.concatenate(cols, axis=1), animated=True)\n",
        "        plt.axis('off')\n",
        "        ims.append([im])\n",
        "\n",
        "    ani = animation.ArtistAnimation(fig, ims, interval=50, repeat_delay=1000)\n",
        "    plt.close()\n",
        "    return ani\n",
        "    \n",
        "\n",
        "HTML(display(source_image, driving_video).to_html5_video())"
      ],
      "execution_count": null,
      "outputs": []
    }
  ]
}